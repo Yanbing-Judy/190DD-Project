{
  "nbformat": 4,
  "nbformat_minor": 0,
  "metadata": {
    "kernelspec": {
      "display_name": "Python 3",
      "language": "python",
      "name": "python3"
    },
    "language_info": {
      "codemirror_mode": {
        "name": "ipython",
        "version": 3
      },
      "file_extension": ".py",
      "mimetype": "text/x-python",
      "name": "python",
      "nbconvert_exporter": "python",
      "pygments_lexer": "ipython3",
      "version": "3.8.3"
    },
    "colab": {
      "name": "Project_Part1a.ipynb",
      "provenance": [],
      "collapsed_sections": [],
      "include_colab_link": true
    }
  },
  "cells": [
    {
      "cell_type": "markdown",
      "metadata": {
        "id": "view-in-github",
        "colab_type": "text"
      },
      "source": [
        "<a href=\"https://colab.research.google.com/github/Yanbing-Judy/190DD-Project/blob/main/Project_Part1a_new.ipynb\" target=\"_parent\"><img src=\"https://colab.research.google.com/assets/colab-badge.svg\" alt=\"Open In Colab\"/></a>"
      ]
    },
    {
      "cell_type": "markdown",
      "metadata": {
        "id": "HUyrlnMpePrp"
      },
      "source": [
        "CMPCS 190DD/ PSTAT 197A Project Part 1\n",
        "\n",
        "Author: Lu Han, Judy Zhu"
      ]
    },
    {
      "cell_type": "markdown",
      "metadata": {
        "id": "F9iYVAsxePrq"
      },
      "source": [
        "(a): Initial $S_{v,c}^{(0)}$ probability mass distribution (PMF) as well as initial infected population sizes $\\textit{$I_{c}$}$, and model parameters $\\textit{$L_{c}$}$ and γ for a single leaf node are given in $\\textbf{part1a.npz}$. Choose arbitrary $\\beta_{v,c}$ values between in [0,1] such that $\\beta_{v,c}$ are non decreasing as v or c increases. In other words, $\\beta_{v,0}$ $\\leq$ $\\beta_{v,1}$ $\\leq$ $\\beta_{v,2}$ $\\leq$ $\\beta_{v,3}$ for all v and $\\beta_{0,c}$ $\\leq$ $\\beta_{1,c}$ $\\leq$ $\\beta_{2,c}$ $\\leq$ $\\beta_{3,c}$ for all c."
      ]
    },
    {
      "cell_type": "code",
      "metadata": {
        "id": "KUr7TsGLePrr"
      },
      "source": [
        "import numpy as np\n",
        "import pandas as pd\n",
        "\n",
        "from scipy import integrate\n",
        "from scipy.integrate import solve_ivp\n",
        "\n",
        "from itertools import product\n",
        "import matplotlib.pyplot as plt\n",
        "import matplotlib as mpl\n",
        "\n",
        "import seaborn as sns"
      ],
      "execution_count": null,
      "outputs": []
    },
    {
      "cell_type": "code",
      "metadata": {
        "id": "YVpL_zIDePru",
        "outputId": "da820e48-eed0-45ca-8c81-1b5617aa9fab",
        "colab": {
          "base_uri": "https://localhost:8080/"
        }
      },
      "source": [
        "part1a = np.load('part1a.npz')\n",
        "\n",
        "print(part1a.files)\n",
        "\n",
        "for i in part1a:\n",
        "    print(i)\n",
        "    print(part1a[i])\n",
        "    \n",
        "N = part1a['N']\n",
        "Svc_0_pmf = part1a['Svc_0_pmf']\n",
        "Lc = part1a['Lc']\n",
        "Ic_0 = part1a['Ic_0']\n",
        "gamma = part1a['gamma']\n",
        "# initial conditions\n",
        "Svc = np.multiply(SVC_0_pmf, N - np.sum(Ic_0)).flatten()\n",
        "y0 = np.concatenate((Svc, Ic_0, R)) \n",
        "print(Svc.sum(axis=0).sum(axis=0), Ic_0, np.zeros(1))"
      ],
      "execution_count": 52,
      "outputs": [
        {
          "output_type": "stream",
          "text": [
            "['N', 'Svc_0_pmf', 'Lc', 'Ic_0', 'gamma']\n",
            "N\n",
            "100000.0\n",
            "Svc_0_pmf\n",
            "[[0.10953309 0.03300776 0.08179044 0.11593994]\n",
            " [0.03089752 0.08511994 0.04528764 0.05718283]\n",
            " [0.07471465 0.02495643 0.10236599 0.04256696]\n",
            " [0.01605863 0.08109608 0.09158212 0.00789999]]\n",
            "Lc\n",
            "[0.3 0.4 0.7 1. ]\n",
            "Ic_0\n",
            "[47 90 51 65]\n",
            "gamma\n",
            "0.07142857142857142\n",
            "99746.99999999997 [47 90 51 65] [0.]\n"
          ],
          "name": "stdout"
        }
      ]
    },
    {
      "cell_type": "markdown",
      "metadata": {
        "id": "BTUizc10ePrx"
      },
      "source": [
        "1. Using the model dynamics described in the previous section, and all the given and chosen parameters, simulate the behavior of the disease for 120 days for this single leaf node."
      ]
    },
    {
      "cell_type": "code",
      "metadata": {
        "id": "BFAVAQ7_ePry"
      },
      "source": [
        "#SIR model\n",
        "def SIR_model(t, Y, beta, gamma):\n",
        "    #define RHS\n",
        "    S = Y[:16]\n",
        "    I = Y[16:20]\n",
        "    R = Y[20]\n",
        "    \n",
        "    dS_dt = -(beta*S*I.sum()/N)\n",
        "    dI_dt = -dS_dt.reshape(4,4).sum(axis=0)-gamma*I\n",
        "    dR_dt = gamma*I.sum()\n",
        "    \n",
        "    RHS = np.concatenate((dS_dt, dI_dt, [dR_dt]), axis = 0)\n",
        "    \n",
        "    return RHS "
      ],
      "execution_count": 53,
      "outputs": []
    },
    {
      "cell_type": "code",
      "metadata": {
        "id": "cEfxjZVqePr0"
      },
      "source": [
        "np.random.seed(190)\n",
        "b = np.random.rand(16).reshape(4,4)\n",
        "b = np.sort(b, axis = 0)\n",
        "b = np.sort(b, axis = 1)\n",
        "b = np.array(b.flatten())\n",
        "\n",
        "\n",
        "sol = solve_ivp(fun=SIR_model, t_span=(0,119,1), y0=y0,\\\n",
        "                dense_output=True, args=[b,gamma])\n"
      ],
      "execution_count": 54,
      "outputs": []
    },
    {
      "cell_type": "markdown",
      "metadata": {
        "id": "c_kshvbnePr3"
      },
      "source": [
        "2. Plot $S_{v,c}$ and $I_{c}$ values over time. (You can plot all $S_{v,c}$ on the same plot. Same for $\\textit{$I_{c}$}$.). Also plot the overall $\\textit{S, I, R}$ and $\\textit{L}$ values."
      ]
    },
    {
      "cell_type": "code",
      "metadata": {
        "id": "pMB3Ti0jePr3"
      },
      "source": [
        "# Svc_over_time\n",
        "plt.figure()\n",
        "for i in range (16):\n",
        "    Svc_over_time=sol.y[i]\n",
        "    plt.plot(t, Svc_over_time, label=\"S(t)\")\n",
        "plt.xlabel(\"t (days)\")\n",
        "plt.legend()\n",
        "plt.tight_layout()\n",
        "plt.show()"
      ],
      "execution_count": null,
      "outputs": []
    },
    {
      "cell_type": "code",
      "metadata": {
        "id": "yhuZaTe-ePr5"
      },
      "source": [
        "# Ic_over_time\n",
        "for i in range (16,20):\n",
        "    Ic_over_time=sol.y[i]\n",
        "    sns.oineplot(sol.t,)\n"
      ],
      "execution_count": null,
      "outputs": []
    },
    {
      "cell_type": "code",
      "metadata": {
        "id": "lL-w10OWePr8"
      },
      "source": [
        "# S_overall, I_overall, R_overall, L_overall\n",
        "\n",
        "S_overall=sol.y[0]\n",
        "I_overall=sol.y[1]\n",
        "R_overall=sol.y[2]\n",
        "L_overall=Lc*I_overall\n",
        "\n",
        "plt.figure()\n",
        "plt.plot(t, S_over_time, label=\"S(t)\")\n",
        "plt.plot(t, I_over_time, label=\"I(t)\")\n",
        "plt.plot(t, R_over_time, label=\"R(t)\")\n",
        "plt.xlabel(\"t (days)\")\n",
        "plt.legend()\n",
        "    \n",
        "mpl.style.use('default')\n",
        "plt.figure(figsize=(10,5))\n",
        "p0=plt.plot(t, Lc*soln_obj.y[1], linewidth=2, label=\"MMSE estimated L(t)\")\n",
        "plt.plot(t, observed_data, 'o', label=\"Observed L(t)\", color=p0[0].get_color(), markersize=5)\n",
        "plt.xlabel(\"t\")\n",
        "plt.legend()\n",
        "plt.tight_layout()\n",
        "plt.show()\n",
        "\n",
        "plt.show()"
      ],
      "execution_count": null,
      "outputs": []
    },
    {
      "cell_type": "markdown",
      "metadata": {
        "id": "IG2oJIapePr-"
      },
      "source": [
        "3. Do the shapes of $\\textit{S, I, R}$ look similar to what you expected? Which of these plots is the “curve” people refer to when they say “flatten the curve”?\n"
      ]
    },
    {
      "cell_type": "markdown",
      "metadata": {
        "id": "ZIU58tKgePr_"
      },
      "source": [
        "Yes, these shapes of S,I,R look similar to what I expected. ..."
      ]
    },
    {
      "cell_type": "markdown",
      "metadata": {
        "id": "gaT4Y8pBePr_"
      },
      "source": [
        "4. Do you observe that some $S_{v,c}$ compartments converged to zero while others converged to a positive value? Why do you think that is?"
      ]
    },
    {
      "cell_type": "markdown",
      "metadata": {
        "id": "enIasklUePr_"
      },
      "source": [
        "Yes. ..."
      ]
    },
    {
      "cell_type": "markdown",
      "metadata": {
        "id": "k7Kc86-PePsA"
      },
      "source": [
        "5. Print the percentages of population that never got infected for all compartments (i.e. all values of v and c)."
      ]
    },
    {
      "cell_type": "code",
      "metadata": {
        "id": "GMTsAFAwePsA"
      },
      "source": [
        "\n",
        "\n",
        "print(\"The percentage of population that never got infected for all compartments is \", percentage)"
      ],
      "execution_count": null,
      "outputs": []
    },
    {
      "cell_type": "markdown",
      "metadata": {
        "id": "mnbHzm2hePsD"
      },
      "source": [
        "6. Multiply all the $\\beta_{v,c}$ values by 1/4. What happened to the $\\textit{S, I, R}$ plots? Did the “curve” flatten compared to the previous case? Print the percentages of population that never got infected with these βv,c values."
      ]
    },
    {
      "cell_type": "code",
      "metadata": {
        "id": "MmFDpdyIePsD"
      },
      "source": [
        ""
      ],
      "execution_count": null,
      "outputs": []
    }
  ]
}