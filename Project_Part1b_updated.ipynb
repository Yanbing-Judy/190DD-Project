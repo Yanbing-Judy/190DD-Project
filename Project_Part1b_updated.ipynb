{
  "nbformat": 4,
  "nbformat_minor": 0,
  "metadata": {
    "colab": {
      "name": "Project_Part1b.ipynb",
      "provenance": [],
      "collapsed_sections": [],
      "authorship_tag": "ABX9TyNv0ibwv73NybBtI8Z68tPZ",
      "include_colab_link": true
    },
    "kernelspec": {
      "name": "python3",
      "display_name": "Python 3"
    }
  },
  "cells": [
    {
      "cell_type": "markdown",
      "metadata": {
        "id": "view-in-github",
        "colab_type": "text"
      },
      "source": [
        "<a href=\"https://colab.research.google.com/github/Yanbing-Judy/190DD-Project/blob/main/Project_Part1b_updated.ipynb\" target=\"_parent\"><img src=\"https://colab.research.google.com/assets/colab-badge.svg\" alt=\"Open In Colab\"/></a>"
      ]
    },
    {
      "cell_type": "code",
      "metadata": {
        "id": "mwQ0QR_Tc5k8"
      },
      "source": [
        "# B1\n",
        "from itertools import product\n",
        "from sklearn.metrics import mean_squared_error\n",
        "import numpy as np\n",
        "import pandas as pd\n",
        "from scipy.integrate import solve_ivp\n",
        "import matplotlib.pyplot as plt\n",
        "\n",
        "data=np.load('part1b.npz')\n",
        "\n",
        "N = data['N']\n",
        "Lc = data['Lc']\n",
        "Ic_0 = data['Ic_0']\n",
        "gamma = data['gamma']\n",
        "L_validation = data['L_validation']\n",
        "L_test = data['L_test']\n",
        "betas_validation = data['betas_validation']\n",
        "nb_nodes=5\n"
      ],
      "execution_count": 107,
      "outputs": []
    },
    {
      "cell_type": "code",
      "metadata": {
        "id": "WQ8tGyNqqHEC"
      },
      "source": [
        "def SIR_model_batch_beta(t, y, b1, b2, b3, b4):\n",
        "    S=y[:4]\n",
        "    I=y[4:8]\n",
        "    R=y[8]\n",
        "    beta = np.array([b1,b2,b3,b4])\n",
        "    dS_dt = -(beta*S*I.sum()/N)\n",
        "    dI_dt = -dS_dt-gamma*I\n",
        "    dR_dt = gamma*I.sum()\n",
        "    RHS = np.concatenate((dS_dt, dI_dt, [dR_dt]))\n",
        "    return RHS"
      ],
      "execution_count": 108,
      "outputs": []
    },
    {
      "cell_type": "code",
      "metadata": {
        "id": "H5a783vjqJMI"
      },
      "source": [
        "def GS_beta_batch(N, Lc, Ic_0, gamma, observed_data, pmf):\n",
        "  grid=np.linspace(0,1,21)\n",
        "  t=np.linspace(0,19,20)\n",
        "  mmse=np.inf\n",
        "  for (b1,b2,b3,b4) in product(grid,grid,grid,grid):\n",
        "    cumulative_mse = 0.\n",
        "    if (b1<=b2<=b3<=b4):\n",
        "      for i in range(nb_nodes):\n",
        "        #initial condition\n",
        "        R_0=0\n",
        "        Sc_0 = pmf*(N-Ic_0[i].sum())\n",
        "        Ic_ = Ic_0[i]\n",
        "        y0 = np.concatenate((Sc_0,Ic_,[R_0]))\n",
        "        sol_object = solve_ivp(fun=SIR_model_batch_beta,t_span=(0,20),y0=y0,args=(b1,b2,b3,b4),dense_output=True)\n",
        "        L_predicted = []\n",
        "        for sol in sol_object.sol(t).T:\n",
        "          L_predicted.append(np.sum(sol[4:8]*Lc))  # Ic*Lc\n",
        "        cumulative_mse += mean_squared_error(L_predicted,observed_data[i])\n",
        "      if cumulative_mse<mmse:\n",
        "        mmse = cumulative_mse\n",
        "        beta = [b1,b2,b3,b4]\n",
        "  print(f\"MMSE is {mmse:.2f}\")\n",
        "  return mmse,beta"
      ],
      "execution_count": 109,
      "outputs": []
    },
    {
      "cell_type": "code",
      "metadata": {
        "id": "Zn1TOcD_2n6W"
      },
      "source": [
        "pmf1 = np.array([0.5,0.3,0.1,0.1])\n",
        "pmf2 = np.array([0.4,0.3,0.2,0.1])\n",
        "pmf3 = np.array([0.3,0.3,0.2,0.2])\n",
        "pmf4 = np.array([0.1,0.2,0.3,0.4])\n",
        "\n",
        "#beta for pmf1\n",
        "mmse_1, beta_1 = GS_beta_batch(N,Lc,Ic_0[0:5],gamma,L_validation[0:5],pmf1)\n",
        "print(\"Estimated betas are\")\n",
        "print(beta_1)\n",
        "print(\"Validation betas are\")\n",
        "print(betas_validation[0])"
      ],
      "execution_count": null,
      "outputs": []
    },
    {
      "cell_type": "code",
      "metadata": {
        "id": "JcLGqsbTt7di"
      },
      "source": [
        "#beta for pmf2\n",
        "mmse_2, beta_2 = GS_beta_batch(N,Lc,Ic_0[5:10],gamma,L_validation[5:10],pmf2)\n",
        "print(\"Estimated betas are\")\n",
        "print(beta_2)\n",
        "print(\"Validation betas are\")\n",
        "print(betas_validation[1])"
      ],
      "execution_count": null,
      "outputs": []
    },
    {
      "cell_type": "code",
      "metadata": {
        "id": "I4zwT9lfCloe"
      },
      "source": [
        "#beta for pmf3\n",
        "mmse_3, beta_3 = GS_beta_batch(N,Lc,Ic_0[10:15],gamma,L_validation[10:15],pmf3)\n",
        "print(\"Estimated betas are\")\n",
        "print(beta_3)\n",
        "print(\"Validation betas are\")\n",
        "print(betas_validation[2])"
      ],
      "execution_count": null,
      "outputs": []
    },
    {
      "cell_type": "code",
      "metadata": {
        "id": "Khmnrln3CZTO"
      },
      "source": [
        "# #beta for pmf3\n",
        "mmse_4, beta_4 = GS_beta_batch(N,Lc,Ic_0[15:20],gamma,L_validation[15:20],pmf4)\n",
        "print(\"Estimated betas are\")\n",
        "print(beta_4)\n",
        "print(\"Validation betas are\")\n",
        "print(betas_validation[3])"
      ],
      "execution_count": null,
      "outputs": []
    },
    {
      "cell_type": "code",
      "metadata": {
        "id": "XcoSLHrDCxC2"
      },
      "source": [
        "# B2\n",
        "beta_test=[]\n",
        "pmf_array = []\n",
        "pmf_array.extend([pmf1,pmf2,pmf3,pmf4])\n",
        "beta_array=[]\n",
        "pointer = 0 # introduce pointer for matrix operation to compare with L_test. Avoid duplicate code.\n",
        "for pmf in pmf_array:\n",
        "  mmse, beta = GS_beta_batch(N,Lc,Ic_0[pointer:pointer+5],gamma,L_test[pointer:pointer+5],pmf)\n",
        "  pointer+=5 #next batch of 5 nodes\n",
        "  beta_array.append(beta)\n",
        "print(beta_array)"
      ],
      "execution_count": null,
      "outputs": []
    },
    {
      "cell_type": "code",
      "metadata": {
        "id": "Sy5g80A0DBAI"
      },
      "source": [
        "# B3\n",
        "pointer = 0\n",
        "c = 0\n",
        "R_0 = 0\n",
        "t = np.linspace(0,99,100) #Solve the equations for 100 days\n",
        "for pmf, beta in zip(pmf_array,beta_array):\n",
        "  Sc_0 = pmf*(N-Ic_0[pointer].sum())\n",
        "  Ic_first = Ic_0[pointer] # first node in each batch\n",
        "  y0=np.concatenate((Sc_0,Ic_first,[R_0]))\n",
        "  sol_object = solve_ivp(fun=SIR_model_batch_beta,t_span=(0,100),y0=y0,args=(beta[0],beta[1],beta[2],beta[3]),dense_output=True)\n",
        "  I_beta = sol_object.sol(t).T[:,4:8]\n",
        "  L_beta = Lc[c]*I_beta\n",
        "  L_predicted = sum(L_beta.T)\n",
        "\n",
        "  plt.xlabel(\"Days\")\n",
        "  plt.title(\"First node of sv {}\".format(c))\n",
        "  # plot for first 20 days\n",
        "  plt.plot(np.linspace(0,19,20), L_test[pointer], marker = \"0\" ,label = 'L test')\n",
        "  # plot S, I, R and predicted L for first node in each social vulnerability case\n",
        "  plt.plot(sol_object.t, sum(sol_object.y[:4]), label = 'S')\n",
        "  plt.plot(sol_object.t, sum(sol_object.y[4:8]), label = 'I')\n",
        "  plt.plot(sol_object.t, sol_object.y[8], label = 'R')\n",
        "  plt.plot(t, L_predicted, label = 'L predicted')\n",
        "  plt.show()\n",
        "\n",
        "  i+=5\n",
        "  c+=1"
      ],
      "execution_count": null,
      "outputs": []
    }
  ]
}