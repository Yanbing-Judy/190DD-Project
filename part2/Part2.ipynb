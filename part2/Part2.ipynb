{
  "nbformat": 4,
  "nbformat_minor": 0,
  "metadata": {
    "kernelspec": {
      "display_name": "Python 3",
      "language": "python",
      "name": "python3"
    },
    "language_info": {
      "codemirror_mode": {
        "name": "ipython",
        "version": 3
      },
      "file_extension": ".py",
      "mimetype": "text/x-python",
      "name": "python",
      "nbconvert_exporter": "python",
      "pygments_lexer": "ipython3",
      "version": "3.8.3-final"
    },
    "colab": {
      "name": "Part2.ipynb",
      "provenance": []
    }
  },
  "cells": [
    {
      "cell_type": "markdown",
      "metadata": {
        "id": "79-EszNY-ies"
      },
      "source": [
        "# Project Part 2 Solutions"
      ]
    },
    {
      "cell_type": "markdown",
      "metadata": {
        "id": "NSG6stFP-ies"
      },
      "source": [
        "## (a)"
      ]
    },
    {
      "cell_type": "code",
      "metadata": {
        "id": "jdTLLxyD-ies",
        "outputId": "18268ad4-0a38-4998-bfff-c30a653492f5",
        "colab": {
          "base_uri": "https://localhost:8080/"
        }
      },
      "source": [
        "import numpy as np\n",
        "\n",
        "file=np.load(\"part2.npz\")\n",
        "beta_old=file['beta_old']\n",
        "N=file['N']\n",
        "Svc_0_PMF=file['Svc_0_PMF']\n",
        "Lc=file['Lc']\n",
        "Ic_0=file['Ic_0']\n",
        "gamma=file['gamma']\n",
        "L_observed=file['L_observed']\n",
        "nb_nodes = Svc_0_PMF.shape[0]"
      ],
      "execution_count": 12,
      "outputs": [
        {
          "output_type": "execute_result",
          "data": {
            "text/plain": [
              "array(0.07142857)"
            ]
          },
          "metadata": {
            "tags": []
          },
          "execution_count": 12
        }
      ]
    },
    {
      "cell_type": "code",
      "metadata": {
        "id": "csFqg9st-iet"
      },
      "source": [
        "def SIR(t, Z, N, betas, gamma):\n",
        "    (S_vec, I_vec, R) = (Z[:16].reshape(4, 4), Z[16:20], Z[-1])\n",
        "    I = I_vec.sum()\n",
        "    dSdt = -betas*S_vec*I/N \n",
        "    dIdt = -dSdt.sum(axis=0)-gamma*I_vec\n",
        "    dRdt = np.array([gamma*I])\n",
        "    return np.concatenate((dSdt.flatten(), dIdt, dRdt))"
      ],
      "execution_count": 2,
      "outputs": []
    },
    {
      "cell_type": "code",
      "metadata": {
        "id": "0_ulRY2Y-iet",
        "outputId": "92c64191-2917-449b-de04-b2aa258702e3",
        "colab": {
          "base_uri": "https://localhost:8080/"
        }
      },
      "source": [
        "from scipy.integrate import solve_ivp\n",
        "from scipy.optimize import fmin\n",
        "from sklearn.metrics import mean_squared_error\n",
        "\n",
        "Svc_0_PMF /= Svc_0_PMF.sum(axis=(1, 2), keepdims=True)\n",
        "Svc_0 = (N-Ic_0.sum(axis=1))[:, np.newaxis, np.newaxis]*Svc_0_PMF\n",
        "Svc_0 = Svc_0.round().astype(int)\n",
        "R0 = np.zeros((nb_nodes)).astype(int)\n",
        "\n",
        "t = np.linspace(0, 199, 200)\n",
        "\n",
        "S = np.zeros((nb_nodes, 4, 4, len(t)))\n",
        "I = np.zeros((nb_nodes, 4, len(t)))\n",
        "R = np.zeros((nb_nodes, len(t)))\n",
        "L = np.zeros((nb_nodes, len(t)))\n",
        "\n",
        "for N_node, node_index in zip(N, range(nb_nodes)):\n",
        "\n",
        "    initial_conditions = np.concatenate(\n",
        "        (Svc_0[node_index].flatten(), Ic_0[node_index], [R0[node_index]]))\n",
        "\n",
        "    soln = solve_ivp(\n",
        "        SIR, (t[0], t[9]), initial_conditions, args=(N_node, beta_old, gamma), t_eval=t[:10])\n",
        "\n",
        "    S[node_index, :, :, :10] = soln.y[:16].reshape(4, 4, -1)\n",
        "    I[node_index, :, :10] = soln.y[16:20]\n",
        "    R[node_index, :10] = soln.y[20]\n",
        "    L[node_index, :10] = Lc@soln.y[16:20]\n",
        "\n",
        "\n",
        "alpha_predicted = np.zeros((nb_nodes))\n",
        "\n",
        "\n",
        "def loss_func(alpha):\n",
        "    new_initial_conditions = np.concatenate((S[node_index,:,:,9].flatten(), I[node_index,:,9], [R[node_index,9]]))\n",
        "    soln = solve_ivp(\n",
        "        SIR, (t[9],t[30]), new_initial_conditions,args=(N_node,beta_old*alpha,gamma),t_eval=t[9:30])\n",
        "\n",
        "    S[node_index, :, :, 9:30] = soln.y[:16].reshape(4, 4, -1)\n",
        "    I[node_index, :, 9:30] = soln.y[16:20]\n",
        "    R[node_index, 9:30] = soln.y[20]\n",
        "    L[node_index, 9:30] = Lc@soln.y[16:20]\n",
        "    mse = mean_squared_error(L_observed[node_index, 9:30], L[node_index][9:30])\n",
        "    return mse\n",
        "\n",
        "for N_node, node_index in zip(N, range(nb_nodes)):\n",
        "    alpha_predicted[node_index] = fmin(loss_func, 0.5, disp=False)\n",
        "\n",
        "print(\"Sorted alpha values are \", np.sort(alpha_predicted),'\\n')\n",
        "print(\"Indexes of nodes sorted by alpha values are\", np.argsort(alpha_predicted))"
      ],
      "execution_count": 22,
      "outputs": [
        {
          "output_type": "stream",
          "text": [
            "Sorted alpha values are  [0.13437347 0.14959717 0.15996704 0.16158829 0.16306152 0.16851807\n",
            " 0.17086182 0.17155762 0.17612305 0.17961426 0.18221436 0.18603516\n",
            " 0.18710937 0.19025879 0.20031738 0.20330505 0.20419922 0.20612793\n",
            " 0.20684509 0.2128418  0.21408691 0.2162323  0.21859131 0.22739258\n",
            " 0.23042603 0.23352203 0.24157715 0.24465332 0.24894104 0.25119629\n",
            " 0.25798035 0.25991821 0.26757812 0.26948242 0.27169952 0.27301636\n",
            " 0.28005524 0.28283691 0.28662109 0.28800049 0.2930542  0.2992981\n",
            " 0.29938354 0.30321045 0.30422821 0.30437317 0.30966797 0.31420898\n",
            " 0.32382202 0.3296875  0.32988281 0.33074341 0.33313293 0.33355408\n",
            " 0.3498291  0.35234375 0.35657806 0.35756836 0.35844421 0.36207275\n",
            " 0.36960449 0.37071838 0.37946777 0.38393707 0.3860054  0.39033203\n",
            " 0.40922546 0.41445465 0.41787415 0.41876221 0.42476807 0.43438721\n",
            " 0.43756104 0.44870605 0.44996338 0.45647888 0.47091064 0.48615723\n",
            " 0.5023941  0.50705566 0.50830688 0.52108459 0.53604736 0.55296021\n",
            " 0.55423279 0.56278687 0.58075714 0.59566956 0.63847961 0.64515076\n",
            " 0.65092468 0.66049652 0.67788239 0.68381958 0.69438477 0.69835815\n",
            " 0.70975342 0.86357422 0.92822266 0.95327148] \n",
            "\n",
            "Indexes of nodes sorted by alpha values are [14 50 96 69 70 25 37 90 33 54 19 43  9 56 16 66 79 95  5 51 27 13 49  2\n",
            " 93  0 15 48 44 98 92 64 53 20 58 86 84 10 61 38 72 75 30 31 85 21 23 12\n",
            " 47 11 52 71 80 24 62 91  7  6 83 60 26 78  8 32  1 36 74 40 63 67 42 45\n",
            " 41 94 73 68 28 22 81 89 65 57 87 17 59 76 18 34 35 77 55 29  4 99 46 82\n",
            "  3 39 97 88]\n"
          ],
          "name": "stdout"
        }
      ]
    },
    {
      "cell_type": "markdown",
      "metadata": {
        "id": "SZNRMkqa-iet"
      },
      "source": [
        "## (b)"
      ]
    },
    {
      "cell_type": "code",
      "metadata": {
        "id": "dGM0tWdW-iet"
      },
      "source": [
        "def g(money):\n",
        "    alpha = 1/np.log2(2*10**(-3)*money+2)\n",
        "    return alpha\n",
        "\n",
        "def g_inv(alpha):\n",
        "    money = (2**(1/alpha)-2)/(2*10**(-3))\n",
        "    return money\n",
        "\n",
        "def scatter_plot(alpha_afterNPI):\n",
        "    plt.figure()\n",
        "    colors=(beta_old[np.newaxis,:,:]*Svc_0_PMF).mean(axis=(1,2))\n",
        "    plt.scatter(alpha_predicted, alpha_afterNPI, s=N/500, c=colors, cmap='jet', alpha=0.5)\n",
        "    plt.xlabel(r\"$\\alpha_{own}$\")\n",
        "    plt.ylabel(r\"$\\alpha_{after\\ NPI}$\")\n",
        "\n",
        "def total_recovered_difference(alpha_afterNPI):\n",
        "    # difference between teh summation of people recovered after 200 days \n",
        "    # in all the nodes using alpha_afterNPI or using old alpha after Day 30.\n",
        "    difference = 0\n",
        "    for N_node, node_index in zip(N, range(nb_nodes)):\n",
        "        i_conditions = np.concatenate((S[node_index,:,:,29].flatten(), I[node_index,:,29], [R[node_index,29]]))\n",
        "        soln_alpha_old = solve_ivp(SIR, (t[29],t[199]), i_conditions,args=(N_node,beta_old*alpha_predicted[node_index],gamma),t_eval=t[29:199])\n",
        "        soln_alpha_new = solve_ivp(SIR, (t[29],t[199]), i_conditions,args=(N_node,beta_old*alpha_afterNPI[node_index],gamma),t_eval=t[29:199])\n",
        "        difference += soln_alpha_new.y[-1][-1] - soln_alpha_old.y[-1][-1]  # number of recovered population on last day\n",
        "    return difference\n",
        "\n",
        "def calculate_alpha_after(alpha_own, money):\n",
        "    return g(g_inv(alpha_own)+money)"
      ],
      "execution_count": 28,
      "outputs": []
    },
    {
      "cell_type": "markdown",
      "metadata": {
        "id": "eGxoCQgq-iet"
      },
      "source": [
        "### Policy #1"
      ]
    },
    {
      "cell_type": "markdown",
      "metadata": {
        "id": "7QBMDXj3-iet"
      },
      "source": [
        "i. The larger the alpha_own is, the larger alpha_after is."
      ]
    },
    {
      "cell_type": "markdown",
      "metadata": {
        "id": "E2-buCbk-iet"
      },
      "source": [
        "ii."
      ]
    },
    {
      "cell_type": "code",
      "metadata": {
        "id": "H2svu_f5-iet",
        "outputId": "aa6e8170-0b58-495d-c1d2-c3023bfc7f22",
        "colab": {
          "base_uri": "https://localhost:8080/",
          "height": 298
        }
      },
      "source": [
        "import matplotlib.pyplot as plt\n",
        "import copy\n",
        "alpha_policy1 = copy.deepcopy(alpha_predicted)\n",
        "for i, v in enumerate(alpha_predicted):\n",
        "    alpha_policy1[i] = calculate_alpha_after(v, 10000)\n",
        "scatter_plot(alpha_policy1)\n",
        "print(\"When applying policy {}, total recovered difference is \".format(1), total_recovered_difference(alpha_policy1))"
      ],
      "execution_count": 29,
      "outputs": [
        {
          "output_type": "stream",
          "text": [
            "When applying policy 1, total recovered difference is  -320300.82569705904\n"
          ],
          "name": "stdout"
        },
        {
          "output_type": "display_data",
          "data": {
            "image/png": "[encoded data removed]",
            "text/plain": [
              "<Figure size 432x288 with 1 Axes>"
            ]
          },
          "metadata": {
            "tags": [],
            "needs_background": "light"
          }
        }
      ]
    },
    {
      "cell_type": "markdown",
      "metadata": {
        "id": "c9e9899t-iet"
      },
      "source": [
        "### Policy #2"
      ]
    },
    {
      "cell_type": "markdown",
      "metadata": {
        "id": "qA4mP7XE-iet"
      },
      "source": [
        "i. "
      ]
    },
    {
      "cell_type": "markdown",
      "metadata": {
        "id": "ymrhvSbt-iet"
      },
      "source": [
        "ii."
      ]
    },
    {
      "cell_type": "code",
      "metadata": {
        "id": "qYytipIpGOHW",
        "outputId": "45277ec2-d25f-425d-80ca-2a431ce93efc",
        "colab": {
          "base_uri": "https://localhost:8080/",
          "height": 298
        }
      },
      "source": [
        "alpha_policy2 = copy.deepcopy(alpha_predicted)\n",
        "n_portion = N/N.sum()\n",
        "for i, v in enumerate(alpha_predicted):\n",
        "    alpha_policy2[i] = calculate_alpha_after(v, n_portion[i]*1000000)\n",
        "\n",
        "scatter_plot(alpha_policy2)\n",
        "print(\"When applying policy {}, total recovered difference is \".format(2), total_recovered_difference(alpha_policy2))"
      ],
      "execution_count": 31,
      "outputs": [
        {
          "output_type": "stream",
          "text": [
            "When applying policy 2, total recovered difference is  -335846.7291849529\n"
          ],
          "name": "stdout"
        },
        {
          "output_type": "display_data",
          "data": {
            "image/png": "[encoded data removed]",
            "text/plain": [
              "<Figure size 432x288 with 1 Axes>"
            ]
          },
          "metadata": {
            "tags": [],
            "needs_background": "light"
          }
        }
      ]
    },
    {
      "cell_type": "markdown",
      "metadata": {
        "id": "XSe-zv1q-iet"
      },
      "source": [
        "### Policy #3"
      ]
    },
    {
      "cell_type": "markdown",
      "metadata": {
        "id": "c4leihrE-iet"
      },
      "source": [
        "i."
      ]
    },
    {
      "cell_type": "markdown",
      "metadata": {
        "id": "rPInvohS-iet"
      },
      "source": [
        "ii."
      ]
    },
    {
      "cell_type": "code",
      "metadata": {
        "id": "pd0712woHPj-"
      },
      "source": [
        ""
      ],
      "execution_count": null,
      "outputs": []
    },
    {
      "cell_type": "markdown",
      "metadata": {
        "id": "3pioi209-iet"
      },
      "source": [
        "### Policy #4"
      ]
    },
    {
      "cell_type": "markdown",
      "metadata": {
        "id": "Fyb9K8OO-iet"
      },
      "source": [
        "i."
      ]
    },
    {
      "cell_type": "markdown",
      "metadata": {
        "id": "Ym0ire07-iet"
      },
      "source": [
        "ii."
      ]
    },
    {
      "cell_type": "markdown",
      "metadata": {
        "id": "fEUBRTWf-iet"
      },
      "source": [
        "## (c)"
      ]
    },
    {
      "cell_type": "markdown",
      "metadata": {
        "id": "UOzApyEg-iet"
      },
      "source": [
        "### Policy 1"
      ]
    },
    {
      "cell_type": "markdown",
      "metadata": {
        "id": "ogJCW4VC-iet"
      },
      "source": [
        "### Policy 2"
      ]
    },
    {
      "cell_type": "markdown",
      "metadata": {
        "id": "ZOhXAmsn-iet"
      },
      "source": [
        "### Policy 3"
      ]
    },
    {
      "cell_type": "markdown",
      "metadata": {
        "id": "RjGJnVdw-iet"
      },
      "source": [
        "### Policy 4"
      ]
    }
  ]
}